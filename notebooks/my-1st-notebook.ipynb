{
 "cells": [
  {
   "cell_type": "code",
   "execution_count": 1,
   "id": "13bb09e8",
   "metadata": {},
   "outputs": [],
   "source": [
    "import numpy as np"
   ]
  },
  {
   "cell_type": "code",
   "execution_count": 2,
   "id": "acc351d8",
   "metadata": {},
   "outputs": [],
   "source": [
    "array = np.random.randint(0, 200, size=(10, 3))"
   ]
  },
  {
   "cell_type": "code",
   "execution_count": 3,
   "id": "5f36e46a",
   "metadata": {},
   "outputs": [
    {
     "data": {
      "text/plain": [
       "array([[154, 116, 177],\n",
       "       [ 80, 155,  39],\n",
       "       [100, 168,  92],\n",
       "       [ 96, 175,   0],\n",
       "       [145,  97,   3],\n",
       "       [ 74,  89, 110],\n",
       "       [185, 173, 133],\n",
       "       [ 63,  49, 102],\n",
       "       [ 56, 188,  49],\n",
       "       [114, 196, 120]])"
      ]
     },
     "execution_count": 3,
     "metadata": {},
     "output_type": "execute_result"
    }
   ],
   "source": [
    "array"
   ]
  }
 ],
 "metadata": {
  "kernelspec": {
   "display_name": "Python 3 (ipykernel)",
   "language": "python",
   "name": "python3"
  },
  "language_info": {
   "codemirror_mode": {
    "name": "ipython",
    "version": 3
   },
   "file_extension": ".py",
   "mimetype": "text/x-python",
   "name": "python",
   "nbconvert_exporter": "python",
   "pygments_lexer": "ipython3",
   "version": "3.9.16"
  }
 },
 "nbformat": 4,
 "nbformat_minor": 5
}
