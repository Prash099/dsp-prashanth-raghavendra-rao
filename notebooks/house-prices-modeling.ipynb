{
 "cells": [
  {
   "cell_type": "markdown",
   "id": "9fe3697a",
   "metadata": {},
   "source": [
    "## Importing Libraries"
   ]
  },
  {
   "cell_type": "code",
   "execution_count": 1,
   "id": "5175d22b",
   "metadata": {},
   "outputs": [],
   "source": [
    "import pandas as pd\n",
    "import numpy as np\n",
    "import matplotlib.pyplot as plt\n",
    "import seaborn as sns\n",
    "from sklearn.metrics import mean_squared_log_error\n",
    "from sklearn.ensemble import RandomForestRegressor"
   ]
  },
  {
   "cell_type": "markdown",
   "id": "1eca613a",
   "metadata": {},
   "source": [
    "## Importing and Reading Data as DataFrame"
   ]
  },
  {
   "cell_type": "code",
   "execution_count": 2,
   "id": "1bbf44ae",
   "metadata": {},
   "outputs": [
    {
     "data": {
      "text/plain": [
       "(1460, 68)"
      ]
     },
     "execution_count": 2,
     "metadata": {},
     "output_type": "execute_result"
    }
   ],
   "source": [
    "df = pd.read_csv(\"../data/train__.csv\")\n",
    "df.shape"
   ]
  },
  {
   "cell_type": "markdown",
   "id": "08ddb725",
   "metadata": {},
   "source": [
    "## Getting Info about data"
   ]
  },
  {
   "cell_type": "code",
   "execution_count": 3,
   "id": "40e4beb4",
   "metadata": {
    "scrolled": true
   },
   "outputs": [
    {
     "name": "stdout",
     "output_type": "stream",
     "text": [
      "<class 'pandas.core.frame.DataFrame'>\n",
      "RangeIndex: 1460 entries, 0 to 1459\n",
      "Data columns (total 68 columns):\n",
      " #   Column         Non-Null Count  Dtype  \n",
      "---  ------         --------------  -----  \n",
      " 0   LotFrontage    1460 non-null   float64\n",
      " 1   LotArea        1460 non-null   float64\n",
      " 2   MasVnrArea     1460 non-null   float64\n",
      " 3   BsmtFinSF1     1460 non-null   float64\n",
      " 4   BsmtFinSF2     1460 non-null   float64\n",
      " 5   BsmtUnfSF      1460 non-null   float64\n",
      " 6   2ndFlrSF       1460 non-null   float64\n",
      " 7   LowQualFinSF   1460 non-null   float64\n",
      " 8   WoodDeckSF     1460 non-null   float64\n",
      " 9   OpenPorchSF    1460 non-null   float64\n",
      " 10  EnclosedPorch  1460 non-null   float64\n",
      " 11  3SsnPorch      1460 non-null   float64\n",
      " 12  ScreenPorch    1460 non-null   float64\n",
      " 13  PoolArea       1460 non-null   float64\n",
      " 14  MiscVal        1460 non-null   float64\n",
      " 15  YrSold         1460 non-null   float64\n",
      " 16  MSZoning       1460 non-null   int64  \n",
      " 17  Street         1460 non-null   int64  \n",
      " 18  LotShape       1460 non-null   int64  \n",
      " 19  LandContour    1460 non-null   int64  \n",
      " 20  Utilities      1460 non-null   int64  \n",
      " 21  LotConfig      1460 non-null   int64  \n",
      " 22  LandSlope      1460 non-null   int64  \n",
      " 23  Neighborhood   1460 non-null   int64  \n",
      " 24  Condition1     1460 non-null   int64  \n",
      " 25  Condition2     1460 non-null   int64  \n",
      " 26  BldgType       1460 non-null   int64  \n",
      " 27  HouseStyle     1460 non-null   int64  \n",
      " 28  RoofStyle      1460 non-null   int64  \n",
      " 29  RoofMatl       1460 non-null   int64  \n",
      " 30  Exterior1st    1460 non-null   int64  \n",
      " 31  Exterior2nd    1460 non-null   int64  \n",
      " 32  MasVnrType     1460 non-null   int64  \n",
      " 33  ExterQual      1460 non-null   int64  \n",
      " 34  ExterCond      1460 non-null   int64  \n",
      " 35  Foundation     1460 non-null   int64  \n",
      " 36  BsmtQual       1460 non-null   int64  \n",
      " 37  BsmtCond       1460 non-null   int64  \n",
      " 38  BsmtExposure   1460 non-null   int64  \n",
      " 39  BsmtFinType1   1460 non-null   int64  \n",
      " 40  BsmtFinType2   1460 non-null   int64  \n",
      " 41  Heating        1460 non-null   int64  \n",
      " 42  HeatingQC      1460 non-null   int64  \n",
      " 43  CentralAir     1460 non-null   int64  \n",
      " 44  Electrical     1460 non-null   int64  \n",
      " 45  KitchenQual    1460 non-null   int64  \n",
      " 46  Functional     1460 non-null   int64  \n",
      " 47  GarageType     1460 non-null   int64  \n",
      " 48  GarageFinish   1460 non-null   int64  \n",
      " 49  GarageQual     1460 non-null   int64  \n",
      " 50  GarageCond     1460 non-null   int64  \n",
      " 51  PavedDrive     1460 non-null   int64  \n",
      " 52  SaleType       1460 non-null   int64  \n",
      " 53  SaleCondition  1460 non-null   int64  \n",
      " 54  MSSubClass     1460 non-null   int64  \n",
      " 55  OverallQual    1460 non-null   int64  \n",
      " 56  OverallCond    1460 non-null   int64  \n",
      " 57  BsmtFullBath   1460 non-null   int64  \n",
      " 58  BsmtHalfBath   1460 non-null   int64  \n",
      " 59  FullBath       1460 non-null   int64  \n",
      " 60  HalfBath       1460 non-null   int64  \n",
      " 61  BedroomAbvGr   1460 non-null   int64  \n",
      " 62  KitchenAbvGr   1460 non-null   int64  \n",
      " 63  TotRmsAbvGrd   1460 non-null   int64  \n",
      " 64  Fireplaces     1460 non-null   int64  \n",
      " 65  GarageCars     1460 non-null   int64  \n",
      " 66  MoSold         1460 non-null   int64  \n",
      " 67  SalePrice      1460 non-null   int64  \n",
      "dtypes: float64(16), int64(52)\n",
      "memory usage: 775.8 KB\n"
     ]
    }
   ],
   "source": [
    "df.info()"
   ]
  },
  {
   "cell_type": "markdown",
   "id": "a3c16ba8",
   "metadata": {},
   "source": [
    "### Basic Data Analysis"
   ]
  },
  {
   "cell_type": "code",
   "execution_count": 4,
   "id": "cf305168",
   "metadata": {
    "scrolled": true
   },
   "outputs": [
    {
     "name": "stdout",
     "output_type": "stream",
     "text": [
      "(1460, 68)\n",
      "   LotFrontage   LotArea  MasVnrArea  BsmtFinSF1  BsmtFinSF2  BsmtUnfSF  \\\n",
      "0    -0.229372 -0.207142    0.511418    0.575425   -0.288653  -0.944591   \n",
      "1     0.451936 -0.091886   -0.574410    1.171992   -0.288653  -0.641228   \n",
      "2    -0.093110  0.073480    0.323060    0.092907   -0.288653  -0.301643   \n",
      "3    -0.456474 -0.096897   -0.574410   -0.499274   -0.288653  -0.061670   \n",
      "4     0.633618  0.375148    1.364570    0.463568   -0.288653  -0.174865   \n",
      "\n",
      "   2ndFlrSF  LowQualFinSF  WoodDeckSF  OpenPorchSF  ...  BsmtHalfBath  \\\n",
      "0  1.161852     -0.120242   -0.752176     0.216503  ...             0   \n",
      "1 -0.795163     -0.120242    1.626195    -0.704483  ...             1   \n",
      "2  1.189351     -0.120242   -0.752176    -0.070361  ...             0   \n",
      "3  0.937276     -0.120242   -0.752176    -0.176048  ...             0   \n",
      "4  1.617877     -0.120242    0.780197     0.563760  ...             0   \n",
      "\n",
      "   FullBath  HalfBath  BedroomAbvGr  KitchenAbvGr  TotRmsAbvGrd  Fireplaces  \\\n",
      "0         2         1             3             1             6           0   \n",
      "1         2         0             3             1             4           1   \n",
      "2         2         1             3             1             4           1   \n",
      "3         1         0             3             1             5           1   \n",
      "4         2         1             4             1             7           1   \n",
      "\n",
      "   GarageCars  MoSold  SalePrice  \n",
      "0           2       1     208500  \n",
      "1           2       4     181500  \n",
      "2           2       8     223500  \n",
      "3           3       1     140000  \n",
      "4           3      11     250000  \n",
      "\n",
      "[5 rows x 68 columns]\n"
     ]
    }
   ],
   "source": [
    "print(df.shape)\n",
    "print(df.head())"
   ]
  },
  {
   "cell_type": "markdown",
   "id": "bf175938",
   "metadata": {},
   "source": [
    "## EDA, Feature Engineering and Feature Selection"
   ]
  },
  {
   "cell_type": "markdown",
   "id": "b77820a8",
   "metadata": {},
   "source": [
    "### Analysis : \n",
    "##### There are various categorical columns in numerical data like there are many columns with cardinal features.\n",
    "##### We found out the list of numerical and categorical features as some of the categorical features were labelled as Numerical.\n",
    "##### List of columns categorised as numerical but have cardinal features\n",
    "##### [\"MSSubClass\",  \"OverallQual\", \"OverallCond\", \"BstFullBath\", \"BstHalfBath\", \"FullBath\", \"HalfBath\", \"BedroomAbvGr\", \"KitchenAbvGr\", \"TotRmsAbvGrd\", \"Fireplaces\", \"GarageCars\", \"MoSold\"]\n",
    "##### TimeSeries columns : [\"YearBuilt\", \"YearRemodAdd\", \"GarageYrBlt\", \"YrSold\"]\n",
    "##### MasVnrArea has around 60 % of values as Zero.\n",
    "##### BsmtFinSF1 has 32% of values as Zero.\n",
    "##### BsmtFinSF2 has 88% of values as Zero.\n",
    "##### 2ndFlrSF has 56% of values as Zero.\n",
    "##### LowQualFinSF has 98% of values as Zero.\n",
    "##### WoodDeckSF has 52% of values as Zero.\n",
    "##### OpenPorchSF has 45% of values as Zero.\n",
    "##### EnclosedPorch has 85% of values as Zero.\n",
    "##### 3SsnPorch has 98% of values as Zero.\n",
    "##### ScreenPorch has 92% of values as Zero.\n",
    "##### PoolArea has 99% of values as Zero.\n",
    "##### MiscVal has 96% of values as Zero.\n",
    "##### Alley column has 93% of missing data.\n",
    "##### FireplaceQu has 47% of missing data.\n",
    "##### PoolQC has 99% of missing data.\n",
    "##### Fence has 80% of Missing data.\n",
    "##### MiscFeature has 96% of missing data.\n",
    "\n",
    "### Feature Selection : \n",
    "##### Dropping Columns with more than 40% Missing data.\n",
    "##### Removing Highly Correlated Features such as \n",
    "##### ['YearRemodAdd', 'TotalBsmtSF', '1stFlrSF', 'GrLivArea', 'GarageYrBlt', 'GarageArea', 'YearBuilt']\n",
    "\n",
    "##### Data Shape dropped from (1460, 81) to (1460, 68)\n",
    "\n",
    "### Feature Engineering : \n",
    "##### Imputed Numerical_data using Mean Imputation and Categorical_data using mosst_frequent/mode imputation.\n",
    "##### Transformed Numerical data using Standard Scalar and Categorical Data using Label Encoding"
   ]
  },
  {
   "cell_type": "markdown",
   "id": "e82f6672",
   "metadata": {},
   "source": [
    "### Splitting Target and Train test Splits"
   ]
  },
  {
   "cell_type": "code",
   "execution_count": 5,
   "id": "5e951ce2",
   "metadata": {},
   "outputs": [],
   "source": [
    "target = df['SalePrice']\n",
    "df = df.drop(['SalePrice'], axis=1)"
   ]
  },
  {
   "cell_type": "code",
   "execution_count": 6,
   "id": "3224b6bc",
   "metadata": {},
   "outputs": [
    {
     "data": {
      "text/plain": [
       "0       False\n",
       "1       False\n",
       "2       False\n",
       "3       False\n",
       "4       False\n",
       "        ...  \n",
       "1455    False\n",
       "1456    False\n",
       "1457    False\n",
       "1458    False\n",
       "1459    False\n",
       "Name: SalePrice, Length: 1460, dtype: bool"
      ]
     },
     "execution_count": 6,
     "metadata": {},
     "output_type": "execute_result"
    }
   ],
   "source": [
    "target.isnull()"
   ]
  },
  {
   "cell_type": "code",
   "execution_count": 7,
   "id": "ebea346d",
   "metadata": {},
   "outputs": [
    {
     "name": "stdout",
     "output_type": "stream",
     "text": [
      "<class 'pandas.core.series.Series'>\n",
      "RangeIndex: 1460 entries, 0 to 1459\n",
      "Series name: SalePrice\n",
      "Non-Null Count  Dtype\n",
      "--------------  -----\n",
      "1460 non-null   int64\n",
      "dtypes: int64(1)\n",
      "memory usage: 11.5 KB\n"
     ]
    }
   ],
   "source": [
    "target.info()"
   ]
  },
  {
   "cell_type": "code",
   "execution_count": 8,
   "id": "c23de82e",
   "metadata": {},
   "outputs": [
    {
     "data": {
      "text/plain": [
       "count      1460.000000\n",
       "mean     180921.195890\n",
       "std       79442.502883\n",
       "min       34900.000000\n",
       "25%      129975.000000\n",
       "50%      163000.000000\n",
       "75%      214000.000000\n",
       "max      755000.000000\n",
       "Name: SalePrice, dtype: float64"
      ]
     },
     "execution_count": 8,
     "metadata": {},
     "output_type": "execute_result"
    }
   ],
   "source": [
    "target.describe()"
   ]
  },
  {
   "cell_type": "code",
   "execution_count": 9,
   "id": "910d8bbd",
   "metadata": {},
   "outputs": [
    {
     "data": {
      "image/png": "[encoded data removed]",
      "text/plain": [
       "<Figure size 640x480 with 1 Axes>"
      ]
     },
     "metadata": {},
     "output_type": "display_data"
    }
   ],
   "source": [
    "rf = RandomForestRegressor(random_state=0)\n",
    "\n",
    "rf.fit(df, target)\n",
    "\n",
    "f_i = list(zip(df.columns,rf.feature_importances_))\n",
    "f_i.sort(key = lambda x : x[1])\n",
    "plt.barh([x[0] for x in f_i],[x[1] for x in f_i])\n",
    "\n",
    "plt.show()"
   ]
  },
  {
   "cell_type": "markdown",
   "id": "5edcd87a",
   "metadata": {},
   "source": [
    "#### Taking first 10 top features"
   ]
  },
  {
   "cell_type": "code",
   "execution_count": 10,
   "id": "4525a591",
   "metadata": {
    "scrolled": true
   },
   "outputs": [
    {
     "data": {
      "text/plain": [
       "[('YrSold', 0.002575309394954284),\n",
       " ('WoodDeckSF', 0.009218731372380893),\n",
       " ('Utilities', 6.519511577950291e-06),\n",
       " ('TotRmsAbvGrd', 0.018438646303961307),\n",
       " ('Street', 5.295741126862809e-05),\n",
       " ('ScreenPorch', 0.002324764577281145),\n",
       " ('SaleType', 0.0016418578625459392),\n",
       " ('SaleCondition', 0.0027037200064084633),\n",
       " ('RoofStyle', 0.0012473289534706805),\n",
       " ('RoofMatl', 0.0003914705743729436),\n",
       " ('PoolArea', 0.000619861436528225),\n",
       " ('PavedDrive', 0.0006873883132325827),\n",
       " ('OverallQual', 0.6166691413868008),\n",
       " ('OverallCond', 0.004167453506583242),\n",
       " ('OpenPorchSF', 0.009713774766971852),\n",
       " ('Neighborhood', 0.009215527467551898),\n",
       " ('MoSold', 0.005645254264461878),\n",
       " ('MiscVal', 0.00010768600296592976),\n",
       " ('MasVnrType', 0.001684450638344455),\n",
       " ('MasVnrArea', 0.00984175470848021),\n",
       " ('MSZoning', 0.0028986486466495067),\n",
       " ('MSSubClass', 0.003296287508831014),\n",
       " ('LowQualFinSF', 0.0003254131166094836),\n",
       " ('LotShape', 0.0010746599535734799),\n",
       " ('LotFrontage', 0.010867926638206444),\n",
       " ('LotConfig', 0.001357095380484054),\n",
       " ('LotArea', 0.03752599935092215),\n",
       " ('LandSlope', 0.001295767472595481),\n",
       " ('LandContour', 0.002417840701513946),\n",
       " ('KitchenQual', 0.0028644085485766448),\n",
       " ('KitchenAbvGr', 7.772271364960099e-05),\n",
       " ('HouseStyle', 0.0014079840250544567),\n",
       " ('HeatingQC', 0.0015889906590850664),\n",
       " ('Heating', 0.00015746752930255792),\n",
       " ('HalfBath', 0.0025579648154552283),\n",
       " ('GarageType', 0.007028870695595153),\n",
       " ('GarageQual', 0.0012843451534850698),\n",
       " ('GarageFinish', 0.0028016629524722047),\n",
       " ('GarageCond', 0.0007127940485934735),\n",
       " ('GarageCars', 0.04444440176355898),\n",
       " ('Functional', 0.0003861209633682793),\n",
       " ('FullBath', 0.019631413590993716),\n",
       " ('Foundation', 0.0012649427865327595),\n",
       " ('Fireplaces', 0.013947723742140065),\n",
       " ('Exterior2nd', 0.0023641222501258694),\n",
       " ('Exterior1st', 0.0024512630904522876),\n",
       " ('ExterQual', 0.0031692593606532167),\n",
       " ('ExterCond', 0.000779280106046555),\n",
       " ('EnclosedPorch', 0.0011050326540332233),\n",
       " ('Electrical', 0.0002546391649212259),\n",
       " ('Condition2', 0.00030016800827123414),\n",
       " ('Condition1', 0.0009250410485008244),\n",
       " ('CentralAir', 0.0030512749192091156),\n",
       " ('BsmtUnfSF', 0.010058213375928816),\n",
       " ('BsmtQual', 0.006249676897747439),\n",
       " ('BsmtHalfBath', 0.0003577710790767316),\n",
       " ('BsmtFullBath', 0.0013927768644682495),\n",
       " ('BsmtFinType2', 0.0007273928470806366),\n",
       " ('BsmtFinType1', 0.0012534949909557046),\n",
       " ('BsmtFinSF2', 0.001002262826378881),\n",
       " ('BsmtFinSF1', 0.043076077393702006),\n",
       " ('BsmtExposure', 0.0018899575554684916),\n",
       " ('BsmtCond', 0.0006666002913071587),\n",
       " ('BldgType', 0.0005756857296659767),\n",
       " ('BedroomAbvGr', 0.003828970226790639),\n",
       " ('3SsnPorch', 0.0003574114713054636),\n",
       " ('2ndFlrSF', 0.05599357663051812)]"
      ]
     },
     "execution_count": 10,
     "metadata": {},
     "output_type": "execute_result"
    }
   ],
   "source": [
    "sorted(f_i, reverse=True)"
   ]
  },
  {
   "cell_type": "code",
   "execution_count": 11,
   "id": "d93e3f3d",
   "metadata": {},
   "outputs": [],
   "source": [
    "top_6_features = ['OverallQual', '2ndFlrSF', 'GarageCars', 'BsmtFinSF1', 'LotArea', 'FullBath']"
   ]
  },
  {
   "cell_type": "code",
   "execution_count": 12,
   "id": "d791fb96",
   "metadata": {},
   "outputs": [],
   "source": [
    "df = df[['OverallQual', '2ndFlrSF', 'GarageCars', 'BsmtFinSF1', 'LotArea', 'FullBath']]"
   ]
  },
  {
   "cell_type": "markdown",
   "id": "d5acd2d0",
   "metadata": {},
   "source": [
    "### Train Test Split"
   ]
  },
  {
   "cell_type": "code",
   "execution_count": 13,
   "id": "29282236",
   "metadata": {},
   "outputs": [],
   "source": [
    "from sklearn.model_selection import train_test_split\n",
    "\n",
    "X_train, X_test, y_train, y_test = train_test_split(df, target, test_size=0.33, random_state=42)"
   ]
  },
  {
   "cell_type": "markdown",
   "id": "41c028ba",
   "metadata": {},
   "source": [
    "### Modeling"
   ]
  },
  {
   "cell_type": "code",
   "execution_count": 14,
   "id": "67220b84",
   "metadata": {
    "scrolled": true
   },
   "outputs": [
    {
     "data": {
      "text/html": [
       "<style>#sk-container-id-1 {color: black;background-color: white;}#sk-container-id-1 pre{padding: 0;}#sk-container-id-1 div.sk-toggleable {background-color: white;}#sk-container-id-1 label.sk-toggleable__label {cursor: pointer;display: block;width: 100%;margin-bottom: 0;padding: 0.3em;box-sizing: border-box;text-align: center;}#sk-container-id-1 label.sk-toggleable__label-arrow:before {content: \"▸\";float: left;margin-right: 0.25em;color: #696969;}#sk-container-id-1 label.sk-toggleable__label-arrow:hover:before {color: black;}#sk-container-id-1 div.sk-estimator:hover label.sk-toggleable__label-arrow:before {color: black;}#sk-container-id-1 div.sk-toggleable__content {max-height: 0;max-width: 0;overflow: hidden;text-align: left;background-color: #f0f8ff;}#sk-container-id-1 div.sk-toggleable__content pre {margin: 0.2em;color: black;border-radius: 0.25em;background-color: #f0f8ff;}#sk-container-id-1 input.sk-toggleable__control:checked~div.sk-toggleable__content {max-height: 200px;max-width: 100%;overflow: auto;}#sk-container-id-1 input.sk-toggleable__control:checked~label.sk-toggleable__label-arrow:before {content: \"▾\";}#sk-container-id-1 div.sk-estimator input.sk-toggleable__control:checked~label.sk-toggleable__label {background-color: #d4ebff;}#sk-container-id-1 div.sk-label input.sk-toggleable__control:checked~label.sk-toggleable__label {background-color: #d4ebff;}#sk-container-id-1 input.sk-hidden--visually {border: 0;clip: rect(1px 1px 1px 1px);clip: rect(1px, 1px, 1px, 1px);height: 1px;margin: -1px;overflow: hidden;padding: 0;position: absolute;width: 1px;}#sk-container-id-1 div.sk-estimator {font-family: monospace;background-color: #f0f8ff;border: 1px dotted black;border-radius: 0.25em;box-sizing: border-box;margin-bottom: 0.5em;}#sk-container-id-1 div.sk-estimator:hover {background-color: #d4ebff;}#sk-container-id-1 div.sk-parallel-item::after {content: \"\";width: 100%;border-bottom: 1px solid gray;flex-grow: 1;}#sk-container-id-1 div.sk-label:hover label.sk-toggleable__label {background-color: #d4ebff;}#sk-container-id-1 div.sk-serial::before {content: \"\";position: absolute;border-left: 1px solid gray;box-sizing: border-box;top: 0;bottom: 0;left: 50%;z-index: 0;}#sk-container-id-1 div.sk-serial {display: flex;flex-direction: column;align-items: center;background-color: white;padding-right: 0.2em;padding-left: 0.2em;position: relative;}#sk-container-id-1 div.sk-item {position: relative;z-index: 1;}#sk-container-id-1 div.sk-parallel {display: flex;align-items: stretch;justify-content: center;background-color: white;position: relative;}#sk-container-id-1 div.sk-item::before, #sk-container-id-1 div.sk-parallel-item::before {content: \"\";position: absolute;border-left: 1px solid gray;box-sizing: border-box;top: 0;bottom: 0;left: 50%;z-index: -1;}#sk-container-id-1 div.sk-parallel-item {display: flex;flex-direction: column;z-index: 1;position: relative;background-color: white;}#sk-container-id-1 div.sk-parallel-item:first-child::after {align-self: flex-end;width: 50%;}#sk-container-id-1 div.sk-parallel-item:last-child::after {align-self: flex-start;width: 50%;}#sk-container-id-1 div.sk-parallel-item:only-child::after {width: 0;}#sk-container-id-1 div.sk-dashed-wrapped {border: 1px dashed gray;margin: 0 0.4em 0.5em 0.4em;box-sizing: border-box;padding-bottom: 0.4em;background-color: white;}#sk-container-id-1 div.sk-label label {font-family: monospace;font-weight: bold;display: inline-block;line-height: 1.2em;}#sk-container-id-1 div.sk-label-container {text-align: center;}#sk-container-id-1 div.sk-container {/* jupyter's `normalize.less` sets `[hidden] { display: none; }` but bootstrap.min.css set `[hidden] { display: none !important; }` so we also need the `!important` here to be able to override the default hidden behavior on the sphinx rendered scikit-learn.org. See: https://github.com/scikit-learn/scikit-learn/issues/21755 */display: inline-block !important;position: relative;}#sk-container-id-1 div.sk-text-repr-fallback {display: none;}</style><div id=\"sk-container-id-1\" class=\"sk-top-container\"><div class=\"sk-text-repr-fallback\"><pre>RandomForestRegressor(max_depth=7, random_state=0)</pre><b>In a Jupyter environment, please rerun this cell to show the HTML representation or trust the notebook. <br />On GitHub, the HTML representation is unable to render, please try loading this page with nbviewer.org.</b></div><div class=\"sk-container\" hidden><div class=\"sk-item\"><div class=\"sk-estimator sk-toggleable\"><input class=\"sk-toggleable__control sk-hidden--visually\" id=\"sk-estimator-id-1\" type=\"checkbox\" checked><label for=\"sk-estimator-id-1\" class=\"sk-toggleable__label sk-toggleable__label-arrow\">RandomForestRegressor</label><div class=\"sk-toggleable__content\"><pre>RandomForestRegressor(max_depth=7, random_state=0)</pre></div></div></div></div></div>"
      ],
      "text/plain": [
       "RandomForestRegressor(max_depth=7, random_state=0)"
      ]
     },
     "execution_count": 14,
     "metadata": {},
     "output_type": "execute_result"
    }
   ],
   "source": [
    "regr = RandomForestRegressor(max_depth=7, random_state=0)\n",
    "regr.fit(X_train, y_train)"
   ]
  },
  {
   "cell_type": "code",
   "execution_count": 15,
   "id": "cbd6f63b",
   "metadata": {},
   "outputs": [],
   "source": [
    "preds = regr.predict(X_test)"
   ]
  },
  {
   "cell_type": "code",
   "execution_count": 16,
   "id": "b0e837bd",
   "metadata": {
    "scrolled": true
   },
   "outputs": [
    {
     "data": {
      "text/plain": [
       "array([135945.47126896, 290074.83076079, 129941.8175288 , 158778.96208668,\n",
       "       364628.10659246,  78380.6977055 , 204981.50590684, 158809.33288338,\n",
       "        77329.67148172, 129957.76689507, 161005.45135518, 132968.05614878,\n",
       "       124525.54395071, 198593.1625251 , 178498.96290648, 130611.49588447,\n",
       "       194668.30438671, 125889.05365245, 125928.26058086, 227659.43643128,\n",
       "       149914.10160481, 233836.3613945 , 178949.85197887, 110653.87193061,\n",
       "       195851.79717644, 178211.08664455, 193735.55029021, 127194.45023778,\n",
       "       177811.23589027, 184646.91610162, 126600.85466023, 263667.20504406,\n",
       "       148301.97003316, 101082.22211799, 269673.38761951, 138431.81978163,\n",
       "       136235.61679252, 217738.63669989, 334648.22416784, 129968.3941383 ,\n",
       "       129792.39715499, 208320.4709094 , 129598.40476656, 268349.1963667 ,\n",
       "       148471.17132174, 154230.23058483, 122395.14390493, 130391.92124049,\n",
       "       407560.18378405, 148333.5855007 , 127440.68961378, 185606.35287431,\n",
       "       113792.03749157, 284952.18558506, 142767.30095464, 235963.50439932,\n",
       "       194059.58454821, 160925.20505666, 155608.54407549, 116072.84884405,\n",
       "        98603.53453551, 122848.79067221, 287529.99701639, 301798.75914997,\n",
       "       265271.67727004, 184074.7223989 , 121758.57774926, 300705.07224951,\n",
       "       126903.75040655, 159608.98379819, 130452.94783886, 122992.20322785,\n",
       "       101690.04336618, 103890.54741205, 347247.52277593, 150240.55561845,\n",
       "       312962.58178219, 283404.38101236, 122207.0034615 , 128137.03437738,\n",
       "       101311.6174092 , 118475.96401302, 150253.13780336, 105837.63407766,\n",
       "       160132.15268342, 107124.31679008, 253223.50890793, 196648.65227058,\n",
       "       142767.30095464, 200390.70127028, 130610.90748154, 155396.54741278,\n",
       "       130761.16519224, 227697.54689409, 102470.86130959, 178153.20341852,\n",
       "       176750.91122198, 171612.36943221, 193285.52516465, 238693.35286226,\n",
       "       195190.10815399, 199756.42420074, 239020.30060312, 164434.66827318,\n",
       "       158949.77965162, 152857.71442935, 155608.54407549, 270316.74120846,\n",
       "       142760.63250226, 155666.93025759,  67541.99109412, 129923.55920984,\n",
       "       126463.60386905, 107063.4643121 , 192117.31325103, 127411.26773556,\n",
       "        97880.24993766, 104580.51076223, 177919.91205616, 302368.00793901,\n",
       "       158016.57897234, 142767.30095464, 177919.91205616, 161721.94210486,\n",
       "       187847.5848967 , 148400.04465426, 226823.42536179, 118727.08360486,\n",
       "       120147.27220701, 198038.72362366, 192294.14033377, 337269.95275882,\n",
       "       209196.72795548, 120488.98846237,  77128.05044671, 383470.2752742 ,\n",
       "       367123.05328587, 124141.88698192, 217593.08008576, 546232.94653571,\n",
       "       320794.6639522 , 146861.70380778, 178587.9084504 , 178453.42900989,\n",
       "       179967.07908195, 130200.3050371 , 216814.46343492, 212205.66314588,\n",
       "       128340.02989962,  77076.77768017, 101314.76890463, 158551.55619228,\n",
       "       216495.36915321, 160505.36437198,  85210.26016791, 130760.72751063,\n",
       "       182028.79529712, 152214.97640515,  95322.19408971, 135227.0410094 ,\n",
       "       238095.71604377, 152263.79558797, 336695.775194  , 127742.36220763,\n",
       "       128492.96330737, 114419.54122455, 204089.44542038, 265020.30356387,\n",
       "       421431.39726064, 277970.20870975, 369329.34457248,  77322.57794005,\n",
       "       105310.36735415, 159413.98021031, 249706.29236571, 123680.8922196 ,\n",
       "       136023.62190395, 203589.5102459 , 115675.6138184 , 161332.11912765,\n",
       "       146520.36287795, 130032.88223895, 148719.05633377, 141806.36995959,\n",
       "       275743.96440295, 198168.8318741 , 307569.8368326 , 202472.16089578,\n",
       "       187285.49918862,  91522.51230338, 122476.02306348, 104887.60828078,\n",
       "       129407.53322984, 137767.52694873, 160552.98187447, 164136.07833774,\n",
       "       225812.51471068, 110120.45584071, 195675.12641691, 116853.96832913,\n",
       "       236691.94975781, 233900.5002608 , 147577.12336321, 322676.21396916,\n",
       "       198585.05671294, 131572.84544901, 249269.52114216, 137261.16664507,\n",
       "       134551.27530896, 125564.40229627, 269496.09737338, 147722.51483668,\n",
       "       105565.12181393, 159436.85634721, 223545.6790223 , 273509.19536956,\n",
       "       165320.60436846, 130805.44015242, 118281.87748563, 144656.83232275,\n",
       "       154361.02466296, 233494.60413154, 192271.71241754, 105058.62470944,\n",
       "       242871.90915691, 150286.47059433, 107311.90089216, 102178.72143428,\n",
       "       164342.18518472, 101738.2313754 , 101124.67604749, 179384.71116263,\n",
       "       134488.42696469, 130548.37627235, 280767.72889622, 135088.35023823,\n",
       "       192125.66645928, 158287.39227949, 262534.55510556, 134239.95417943,\n",
       "       148217.3343831 , 224346.40438485, 192452.34213446, 440549.05235633,\n",
       "       190351.9110438 , 126923.4099186 , 136465.75340598, 201011.05117085,\n",
       "       124848.20821025, 108035.74774828, 158512.69227356, 199066.63442365,\n",
       "       128997.71995847, 104887.60828078, 147563.5927494 , 160922.8960459 ,\n",
       "       112802.12645317, 120759.61373835, 165877.82156732, 279260.88986538,\n",
       "       265998.8217712 , 160364.8534414 , 126524.48833011, 236688.88535703,\n",
       "       231561.5613467 , 198522.00310961, 165533.76797959, 143032.80095464,\n",
       "       103594.37681994, 179745.31668942, 403092.48254956, 217986.76744686,\n",
       "       194464.29238814, 104964.39133859, 105749.58927696, 137229.64044612,\n",
       "       160839.95701386, 276295.14252876, 178180.87072325, 146184.52672312,\n",
       "       208207.54691706, 110265.45790709, 187356.86437828, 118445.71286412,\n",
       "       314569.21783646, 178319.20020369, 213769.27628478, 101733.56273497,\n",
       "       247398.74288476, 191772.9560402 , 111957.84985275, 106132.60895962,\n",
       "       130935.39592165, 178269.64009472, 112090.9521386 , 151805.39518527,\n",
       "       120372.78803049, 146086.79689331, 189482.32107855, 109929.58448039,\n",
       "       181333.43909954, 235983.04090079, 129652.35537873, 153727.62144466,\n",
       "       200631.98609922, 205319.27499673, 173406.02226249, 200368.96126125,\n",
       "       200899.64694333, 128652.92734405, 161860.69203325, 194485.92799583,\n",
       "       122924.10436446, 160673.93644781, 110095.47121968, 178374.84060448,\n",
       "       192050.12824097, 168525.13202877, 248572.74044242, 103890.54741205,\n",
       "       194696.14430595, 118475.96401302, 146084.9198394 , 107871.25124247,\n",
       "       178782.1100286 , 171729.61898139, 134003.16794622, 187285.49918862,\n",
       "       172146.19597504, 101599.65500164, 138748.68801004, 150327.74741594,\n",
       "       121346.14788688, 216577.13481728, 164978.00949779, 129941.8175288 ,\n",
       "       115700.11671757,  75244.02060597, 123270.16837344, 201334.08612458,\n",
       "       188184.8511408 , 131093.13704959, 129934.57135943, 147722.51483668,\n",
       "       244115.32847073, 370695.08992037, 373333.53533441, 130032.88223895,\n",
       "       205101.820075  , 112452.87262619, 359622.72205886, 408118.66303751,\n",
       "       270213.86471491, 188283.78861469, 251371.04939976, 152390.69053746,\n",
       "       135417.74019466, 105445.92211101, 185373.41740871, 339330.5921761 ,\n",
       "       188694.64783277, 137966.35081451, 235906.07021757, 245223.91001194,\n",
       "       120346.16651621, 179605.49536141, 158347.14771387, 130618.82565355,\n",
       "       129779.5741383 , 137998.42564603, 137240.25498699, 178464.91139931,\n",
       "       130850.31886778, 233329.76669045, 178313.36894193, 133747.80112613,\n",
       "       210019.41732281, 184834.28457878, 106560.66599778, 188206.35446184,\n",
       "       158253.57793665, 196346.38544511, 183779.76650093, 160796.02981498,\n",
       "       148957.8030574 , 237211.04854319, 130773.76161396, 134580.37415462,\n",
       "       257310.28409855, 159591.05255668, 111782.29599054, 150253.13780336,\n",
       "       157892.90425527, 349392.25029624, 134398.97446   , 370882.10153286,\n",
       "       116069.8974329 , 161678.57293439, 178713.79810069, 151224.98260201,\n",
       "       178498.96290648, 390643.55554993, 128105.10840883, 156220.77996431,\n",
       "       133288.90154728, 103095.24375976, 177985.24912687, 151075.57224957,\n",
       "       212288.18010719, 192929.28311745, 200689.63571288, 198585.05671294,\n",
       "        81233.57100522, 295340.49582588, 127294.50398066, 394774.11876196,\n",
       "       126738.36358313, 350145.88748283, 346660.10413992, 147204.56843217,\n",
       "       224418.53194172, 249918.87916872, 192929.28311745, 165206.55620311,\n",
       "       266537.88182696, 119076.03974198, 193564.85549088, 196230.052082  ,\n",
       "       189803.18259544, 225037.75012354, 130761.16519224, 137614.77812233,\n",
       "       199304.51491724, 130935.39592165,  84427.46821142, 187356.86437828,\n",
       "       153237.29677924, 439116.07908975, 198698.11304279, 123948.47716263,\n",
       "       190254.48861494, 356108.8945555 , 200952.77438085, 158070.53568307,\n",
       "       178084.70212804, 131398.24130932, 186860.84383902, 216212.44674053,\n",
       "       129227.43076652, 158347.14771387, 111161.50682272, 184745.43221183,\n",
       "       234592.50627817, 110150.12316409, 120758.66565983, 210183.48728035,\n",
       "       347071.17753892, 337499.3715934 , 267162.98460035, 160071.3738804 ,\n",
       "       146757.87151309, 110143.96980594, 194041.70896649, 233645.6371568 ,\n",
       "       188350.25678051, 453576.51      , 196180.22000927, 179605.49536141,\n",
       "       120247.46754431, 290814.05567588, 148154.8720112 , 126419.96386145,\n",
       "       117816.01333645, 139517.43259471, 213552.34158552, 219740.18738662,\n",
       "       151140.56194094, 130821.82487204, 122404.6480136 , 240336.74579255,\n",
       "       149705.72145254, 141021.49264099])"
      ]
     },
     "execution_count": 16,
     "metadata": {},
     "output_type": "execute_result"
    }
   ],
   "source": [
    "preds"
   ]
  },
  {
   "cell_type": "code",
   "execution_count": 17,
   "id": "8fed061a",
   "metadata": {},
   "outputs": [],
   "source": [
    "def compute_rmsle(y_test: np.ndarray, y_pred: np.ndarray, precision: int = 2) -> float:\n",
    "    rmsle = np.sqrt(mean_squared_log_error(y_test, y_pred))\n",
    "    return round(rmsle, precision)"
   ]
  },
  {
   "cell_type": "code",
   "execution_count": 18,
   "id": "1f2ebdd8",
   "metadata": {},
   "outputs": [
    {
     "name": "stdout",
     "output_type": "stream",
     "text": [
      "0.18\n"
     ]
    }
   ],
   "source": [
    "print(compute_rmsle(y_test, preds))"
   ]
  },
  {
   "cell_type": "code",
   "execution_count": 19,
   "id": "9781f0c8",
   "metadata": {},
   "outputs": [
    {
     "name": "stdout",
     "output_type": "stream",
     "text": [
      "0.8382496174177267\n"
     ]
    }
   ],
   "source": [
    "from sklearn.metrics import r2_score\n",
    "print(r2_score(y_test, preds))"
   ]
  },
  {
   "cell_type": "code",
   "execution_count": null,
   "id": "fc19dc07",
   "metadata": {},
   "outputs": [],
   "source": []
  }
 ],
 "metadata": {
  "kernelspec": {
   "display_name": "Python 3 (ipykernel)",
   "language": "python",
   "name": "python3"
  },
  "language_info": {
   "codemirror_mode": {
    "name": "ipython",
    "version": 3
   },
   "file_extension": ".py",
   "mimetype": "text/x-python",
   "name": "python",
   "nbconvert_exporter": "python",
   "pygments_lexer": "ipython3",
   "version": "3.9.16"
  }
 },
 "nbformat": 4,
 "nbformat_minor": 5
}
