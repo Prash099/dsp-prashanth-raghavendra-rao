{
 "cells": [
  {
   "cell_type": "markdown",
   "id": "7d7aba4c",
   "metadata": {},
   "source": [
    "## Model Building"
   ]
  },
  {
   "cell_type": "markdown",
   "id": "d150716a",
   "metadata": {},
   "source": [
    "### Model Training"
   ]
  },
  {
   "cell_type": "code",
   "execution_count": 1,
   "id": "831b61e8",
   "metadata": {},
   "outputs": [],
   "source": [
    "%load_ext autoreload\n",
    "%autoreload 2"
   ]
  },
  {
   "cell_type": "code",
   "execution_count": 2,
   "id": "17833938",
   "metadata": {},
   "outputs": [],
   "source": [
    "import pandas as pd\n",
    "from HousePrices.Train import Train\n",
    "\n",
    "training_data_df = pd.read_csv('data/train.csv')\n",
    "model_performance_dict = Train(training_data_df).build_model()"
   ]
  },
  {
   "cell_type": "code",
   "execution_count": 3,
   "id": "df24c2ad",
   "metadata": {},
   "outputs": [
    {
     "name": "stdout",
     "output_type": "stream",
     "text": [
      "{'rmse : ': 0.18}\n"
     ]
    }
   ],
   "source": [
    "print(model_performance_dict)"
   ]
  },
  {
   "cell_type": "markdown",
   "id": "a7259690",
   "metadata": {},
   "source": [
    "### Model Inference"
   ]
  },
  {
   "cell_type": "code",
   "execution_count": 4,
   "id": "9d541fbe",
   "metadata": {},
   "outputs": [],
   "source": [
    "import pandas as pd\n",
    "from HousePrices.Inference import Inference\n",
    "\n",
    "user_data_df = pd.read_csv('data/test.csv')\n",
    "predictions = Inference(user_data_df).make_predictions()"
   ]
  },
  {
   "cell_type": "code",
   "execution_count": 5,
   "id": "8014c30c",
   "metadata": {},
   "outputs": [
    {
     "data": {
      "text/plain": [
       "array([143395.  , 157954.7 , 173349.  , ..., 201495.5 , 118105.5 ,\n",
       "       261288.36])"
      ]
     },
     "execution_count": 5,
     "metadata": {},
     "output_type": "execute_result"
    }
   ],
   "source": [
    "predictions"
   ]
  }
 ],
 "metadata": {
  "kernelspec": {
   "display_name": "Python 3 (ipykernel)",
   "language": "python",
   "name": "python3"
  },
  "language_info": {
   "codemirror_mode": {
    "name": "ipython",
    "version": 3
   },
   "file_extension": ".py",
   "mimetype": "text/x-python",
   "name": "python",
   "nbconvert_exporter": "python",
   "pygments_lexer": "ipython3",
   "version": "3.9.16"
  }
 },
 "nbformat": 4,
 "nbformat_minor": 5
}
