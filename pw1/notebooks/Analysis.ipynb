{
 "cells": [
  {
   "cell_type": "code",
   "execution_count": 4,
   "id": "28eedb7d",
   "metadata": {},
   "outputs": [],
   "source": [
    "from lxml import etree\n",
    "import pandas as pd\n",
    "import os"
   ]
  },
  {
   "cell_type": "code",
   "execution_count": 5,
   "id": "2fa2674a",
   "metadata": {},
   "outputs": [],
   "source": [
    "directory = 'D:\\EPITA\\Semester_2\\Data_Exploration_And_Preparation\\Assignments\\Assignment_1\\data'\n",
    "recovering_parser = etree.XMLParser(recover=True)"
   ]
  },
  {
   "cell_type": "code",
   "execution_count": 11,
   "id": "7bf000a6",
   "metadata": {},
   "outputs": [
    {
     "name": "stdout",
     "output_type": "stream",
     "text": [
      "[['04'], ['1999'], ['Technological Change and Wages: An Interindustry Analysis'], 'ML']\n"
     ]
    }
   ],
   "source": [
    "df = []\n",
    "for filename in os.scandir(directory):\n",
    "    try:\n",
    "        if filename.is_file():\n",
    "            tree = etree.parse(filename.path, parser=recovering_parser)\n",
    "            root = tree.getroot()\n",
    "\n",
    "            month = root.xpath(\"/article/front/article-meta/pub-date/month/text()\")\n",
    "            year = root.xpath(\"/article/front/article-meta/pub-date/year/text()\")            \n",
    "            title = root.xpath(\"/article/front/article-meta/title-group/article-title/text()\")\n",
    "            topic_list = 'ML'\n",
    "            \n",
    "            df.append([month, year, title, topic_list])\n",
    "    except Exception as e:\n",
    "        print(e)\n",
    "        pass\n",
    "print(df[0])"
   ]
  },
  {
   "cell_type": "code",
   "execution_count": 3,
   "id": "b31d0690",
   "metadata": {},
   "outputs": [
    {
     "name": "stdout",
     "output_type": "stream",
     "text": [
      "Error in title:  D:\\EPITA\\Semester_2\\Data_Exploration_And_Preparation\\Assignments\\Assignment_1\\data\\journal-article-10.2307_1808313.xml  :  []\n",
      "Error in title:  D:\\EPITA\\Semester_2\\Data_Exploration_And_Preparation\\Assignments\\Assignment_1\\data\\journal-article-10.2307_1809445.xml  :  []\n",
      "Error in title:  D:\\EPITA\\Semester_2\\Data_Exploration_And_Preparation\\Assignments\\Assignment_1\\data\\journal-article-10.2307_1810435.xml  :  []\n",
      "Error in title:  D:\\EPITA\\Semester_2\\Data_Exploration_And_Preparation\\Assignments\\Assignment_1\\data\\journal-article-10.2307_1815660.xml  :  []\n",
      "Error in title:  D:\\EPITA\\Semester_2\\Data_Exploration_And_Preparation\\Assignments\\Assignment_1\\data\\journal-article-10.2307_1819701.xml  :  []\n",
      "Error in title:  D:\\EPITA\\Semester_2\\Data_Exploration_And_Preparation\\Assignments\\Assignment_1\\data\\journal-article-10.2307_1822509.xml  :  []\n",
      "Error in title:  D:\\EPITA\\Semester_2\\Data_Exploration_And_Preparation\\Assignments\\Assignment_1\\data\\journal-article-10.2307_1826735.xml  :  []\n",
      "Error in title:  D:\\EPITA\\Semester_2\\Data_Exploration_And_Preparation\\Assignments\\Assignment_1\\data\\journal-article-10.2307_1907472.xml  :  []\n",
      "Error in title:  D:\\EPITA\\Semester_2\\Data_Exploration_And_Preparation\\Assignments\\Assignment_1\\data\\journal-article-10.2307_1910738.xml  :  []\n",
      "Error in title:  D:\\EPITA\\Semester_2\\Data_Exploration_And_Preparation\\Assignments\\Assignment_1\\data\\journal-article-10.2307_1910739.xml  :  []\n",
      "Error in title:  D:\\EPITA\\Semester_2\\Data_Exploration_And_Preparation\\Assignments\\Assignment_1\\data\\journal-article-10.2307_2138736.xml  :  []\n",
      "577\n"
     ]
    }
   ],
   "source": [
    "month_list = []\n",
    "year_list = []\n",
    "title_list = []\n",
    "topic_list = []\n",
    "c = 1\n",
    "for filename in os.scandir(directory):\n",
    "    try:\n",
    "        if filename.is_file():\n",
    "            tree = etree.parse(filename.path, parser=recovering_parser)\n",
    "            root = tree.getroot()\n",
    "            \n",
    "            try:\n",
    "                month = root.xpath(\"/article/front/article-meta/pub-date/month/text()\")\n",
    "                month_list.append(month[0])\n",
    "            except:\n",
    "                print('Error in Month: ', filename.path, ' : ', month)\n",
    "                month = [None]\n",
    "                month_list.append(None)\n",
    "                   \n",
    "            try:\n",
    "                year = root.xpath(\"/article/front/article-meta/pub-date/year/text()\")\n",
    "                year_list.append(year[0])\n",
    "            except:\n",
    "                print('Error in year: ', filename.path, ' : ', year)\n",
    "                year_list.append(None)\n",
    "                year = [None]\n",
    "            \n",
    "            topic_list.append('ML')\n",
    "            \n",
    "            try:\n",
    "                title = root.xpath(\"/article/front/article-meta/title-group/article-title/text()\")\n",
    "                title_list.append(title[0])\n",
    "            except:\n",
    "                print('Error in title: ', filename.path, ' : ', title)\n",
    "                title = [None]\n",
    "                title_list.append(title[0])\n",
    "            c+=1\n",
    "    except Exception as e:\n",
    "            pass\n",
    "print(c)"
   ]
  },
  {
   "cell_type": "code",
   "execution_count": null,
   "id": "10fbb074",
   "metadata": {},
   "outputs": [],
   "source": [
    "table = Table.from_list(domain,data)\n",
    "out_data = table\n",
    "print(out_data)"
   ]
  },
  {
   "cell_type": "code",
   "execution_count": null,
   "id": "22983afa",
   "metadata": {},
   "outputs": [],
   "source": [
    "year = ContinuousVariable('year')\n",
    "month = ContinuousVariable('month')\n",
    "title = StringVariable('title')\n",
    "topic = StringVariable('topic')\n",
    "domain = Domain([year,month], metas=[title,topic])\n",
    "table = Table.from_list(domain,data)\n",
    "out_data = table\n",
    "print(out_data)"
   ]
  },
  {
   "cell_type": "code",
   "execution_count": null,
   "id": "d8068fa5",
   "metadata": {},
   "outputs": [],
   "source": [
    "print(len(month_list))\n",
    "print(len(year_list))\n",
    "print(len(title_list))\n",
    "print(len(topic_list))"
   ]
  },
  {
   "cell_type": "code",
   "execution_count": null,
   "id": "6edf214a",
   "metadata": {},
   "outputs": [],
   "source": [
    "df = pd.DataFrame()\n",
    "df['topic'] = list(topic_list)\n",
    "df['title'] = list(title_list)\n",
    "df['month'] = list(month_list)\n",
    "df['year'] = list(year_list)\n",
    "\n",
    "print(df)"
   ]
  },
  {
   "cell_type": "code",
   "execution_count": null,
   "id": "49e88fa8",
   "metadata": {},
   "outputs": [],
   "source": [
    "try:\n",
    "    df = pd.DataFrame()\n",
    "    df['topic'] = list(topic_list)\n",
    "    df['title'] = list(title_list)\n",
    "    df['month'] = list(month_list)\n",
    "    df['year'] = list(year_list)\n",
    "    \n",
    "    out_data = table_from_frame(df)\n",
    "except:\n",
    "    pass"
   ]
  },
  {
   "cell_type": "code",
   "execution_count": null,
   "id": "8c84f35c",
   "metadata": {},
   "outputs": [],
   "source": [
    "df"
   ]
  }
 ],
 "metadata": {
  "kernelspec": {
   "display_name": "Python 3 (ipykernel)",
   "language": "python",
   "name": "python3"
  },
  "language_info": {
   "codemirror_mode": {
    "name": "ipython",
    "version": 3
   },
   "file_extension": ".py",
   "mimetype": "text/x-python",
   "name": "python",
   "nbconvert_exporter": "python",
   "pygments_lexer": "ipython3",
   "version": "3.9.16"
  }
 },
 "nbformat": 4,
 "nbformat_minor": 5
}
